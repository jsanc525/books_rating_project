{
 "cells": [
  {
   "cell_type": "code",
   "execution_count": null,
   "id": "497959b0",
   "metadata": {},
   "outputs": [],
   "source": [
    "import os\n",
    "import pandas as pd\n",
    "import math"
   ]
  },
  {
   "cell_type": "code",
   "execution_count": null,
   "id": "5269f546",
   "metadata": {},
   "outputs": [],
   "source": [
    "os.listdir()"
   ]
  },
  {
   "cell_type": "code",
   "execution_count": null,
   "id": "49fa4b78",
   "metadata": {},
   "outputs": [],
   "source": [
    "os.listdir('data')"
   ]
  },
  {
   "cell_type": "code",
   "execution_count": null,
   "id": "b4390985",
   "metadata": {},
   "outputs": [],
   "source": [
    "folder = 'data/'\n",
    "f_ratings = 'cleaned_books.csv'\n",
    "ratings_path = folder + f_ratings"
   ]
  },
  {
   "cell_type": "code",
   "execution_count": null,
   "id": "6ed5c9ac",
   "metadata": {},
   "outputs": [],
   "source": [
    "df_ratings = pd.read_csv(ratings_path)\n",
    "df_ratings.head()"
   ]
  },
  {
   "cell_type": "code",
   "execution_count": null,
   "id": "d743677b",
   "metadata": {},
   "outputs": [],
   "source": [
    "len(df_ratings['publisher'].unique())"
   ]
  },
  {
   "cell_type": "code",
   "execution_count": null,
   "id": "86fc7b1b",
   "metadata": {},
   "outputs": [],
   "source": [
    "list(df_ratings.columns)"
   ]
  },
  {
   "cell_type": "code",
   "execution_count": null,
   "id": "8aa2bab1",
   "metadata": {},
   "outputs": [],
   "source": [
    "keep_cols = ['authors', 'language_code', '  num_pages', 'ratings_count', 'text_reviews_count', 'publisher', 'average_rating']"
   ]
  },
  {
   "cell_type": "code",
   "execution_count": null,
   "id": "89fc4576",
   "metadata": {},
   "outputs": [],
   "source": [
    "df_ratings_keep = df_ratings[keep_cols]"
   ]
  },
  {
   "cell_type": "code",
   "execution_count": null,
   "id": "ebdb2907",
   "metadata": {},
   "outputs": [],
   "source": [
    "def custom_round(num: float)->float:\n",
    "    floor = float(math.floor(num))\n",
    "    f_split = floor + .33\n",
    "    s_split = floor + .66\n",
    "\n",
    "    if num >= s_split:\n",
    "        return str(floor + 1.0)\n",
    "    if num >= f_split and num < s_split:\n",
    "        return str(floor + .5)\n",
    "    \n",
    "    return str(floor)"
   ]
  },
  {
   "cell_type": "code",
   "execution_count": null,
   "id": "e4b8baa2",
   "metadata": {},
   "outputs": [],
   "source": [
    "df_ratings_keep['target_buckets'] = df_ratings_keep['average_rating'].apply(custom_round)"
   ]
  },
  {
   "cell_type": "code",
   "execution_count": null,
   "id": "6e32a4f0",
   "metadata": {},
   "outputs": [],
   "source": [
    "df_ratings_keep.head()"
   ]
  },
  {
   "cell_type": "code",
   "execution_count": null,
   "id": "e951a76e",
   "metadata": {},
   "outputs": [],
   "source": [
    "keep_cols = ['authors', 'language_code', '  num_pages', 'ratings_count', 'text_reviews_count', 'publisher', 'target_buckets']"
   ]
  },
  {
   "cell_type": "code",
   "execution_count": null,
   "id": "948d7ae8",
   "metadata": {},
   "outputs": [],
   "source": [
    "df_ratings_keep = df_ratings_keep[keep_cols]"
   ]
  },
  {
   "cell_type": "code",
   "execution_count": null,
   "id": "d21aea48",
   "metadata": {},
   "outputs": [],
   "source": [
    "data_one_hot_sparse = pd.get_dummies(df_ratings_keep, columns=['authors', 'language_code', 'publisher'], sparse=True)"
   ]
  },
  {
   "cell_type": "code",
   "execution_count": null,
   "id": "1cfc0bbd",
   "metadata": {},
   "outputs": [],
   "source": [
    "data_one_hot_sparse"
   ]
  },
  {
   "cell_type": "code",
   "execution_count": null,
   "id": "f666678d",
   "metadata": {},
   "outputs": [],
   "source": [
    "y = data_one_hot_sparse['target_buckets']\n",
    "x = data_one_hot_sparse[data_one_hot_sparse.columns.difference(['target_buckets'])]"
   ]
  },
  {
   "cell_type": "code",
   "execution_count": null,
   "id": "c488a310",
   "metadata": {},
   "outputs": [],
   "source": [
    "from sklearn.model_selection import train_test_split\n",
    "from sklearn.linear_model import LogisticRegression\n",
    "import time"
   ]
  },
  {
   "cell_type": "code",
   "execution_count": null,
   "id": "ae984289",
   "metadata": {},
   "outputs": [],
   "source": [
    "x_train, x_test, y_train, y_test = train_test_split(x, y, test_size=0.3, random_state=42)"
   ]
  },
  {
   "cell_type": "code",
   "execution_count": null,
   "id": "212c94b2",
   "metadata": {},
   "outputs": [],
   "source": [
    "logreg = LogisticRegression()"
   ]
  },
  {
   "cell_type": "code",
   "execution_count": null,
   "id": "22499e6e",
   "metadata": {},
   "outputs": [],
   "source": [
    "logreg.fit(x_train, y_train)"
   ]
  },
  {
   "cell_type": "code",
   "execution_count": null,
   "id": "1cacc06f",
   "metadata": {},
   "outputs": [],
   "source": [
    "predictions = logreg.predict(x_test)"
   ]
  },
  {
   "cell_type": "code",
   "execution_count": null,
   "id": "789d8806",
   "metadata": {},
   "outputs": [],
   "source": [
    "score = logreg.score(x_test, y_test)"
   ]
  },
  {
   "cell_type": "code",
   "execution_count": null,
   "id": "865927e6",
   "metadata": {},
   "outputs": [],
   "source": []
  },
  {
   "cell_type": "code",
   "execution_count": null,
   "id": "ee6b0b95",
   "metadata": {},
   "outputs": [],
   "source": [
    "duration_train"
   ]
  },
  {
   "cell_type": "code",
   "execution_count": null,
   "id": "6e1b03a6",
   "metadata": {},
   "outputs": [],
   "source": [
    "model.score(x, y)"
   ]
  },
  {
   "cell_type": "code",
   "execution_count": null,
   "id": "00ec122f",
   "metadata": {},
   "outputs": [],
   "source": []
  },
  {
   "cell_type": "code",
   "execution_count": null,
   "id": "e845df94",
   "metadata": {},
   "outputs": [],
   "source": []
  },
  {
   "cell_type": "code",
   "execution_count": null,
   "id": "a6ff3827",
   "metadata": {},
   "outputs": [],
   "source": []
  },
  {
   "cell_type": "code",
   "execution_count": null,
   "id": "0dca2350",
   "metadata": {},
   "outputs": [],
   "source": []
  },
  {
   "cell_type": "code",
   "execution_count": null,
   "id": "90336b55",
   "metadata": {},
   "outputs": [],
   "source": []
  },
  {
   "cell_type": "code",
   "execution_count": null,
   "id": "e5afd026",
   "metadata": {},
   "outputs": [],
   "source": []
  },
  {
   "cell_type": "code",
   "execution_count": null,
   "id": "d2062534",
   "metadata": {},
   "outputs": [],
   "source": []
  },
  {
   "cell_type": "code",
   "execution_count": null,
   "id": "4f2091be",
   "metadata": {},
   "outputs": [],
   "source": []
  },
  {
   "cell_type": "code",
   "execution_count": null,
   "id": "b5e8b87e",
   "metadata": {},
   "outputs": [],
   "source": []
  },
  {
   "cell_type": "code",
   "execution_count": null,
   "id": "00208b10",
   "metadata": {},
   "outputs": [],
   "source": []
  },
  {
   "cell_type": "code",
   "execution_count": null,
   "id": "f3802af1",
   "metadata": {},
   "outputs": [],
   "source": []
  },
  {
   "cell_type": "code",
   "execution_count": null,
   "id": "cc7002c2",
   "metadata": {},
   "outputs": [],
   "source": []
  },
  {
   "cell_type": "code",
   "execution_count": null,
   "id": "9d1d84f0",
   "metadata": {},
   "outputs": [],
   "source": []
  },
  {
   "cell_type": "code",
   "execution_count": null,
   "id": "f3b3c9b9",
   "metadata": {},
   "outputs": [],
   "source": []
  },
  {
   "cell_type": "code",
   "execution_count": null,
   "id": "ab34ba40",
   "metadata": {},
   "outputs": [],
   "source": []
  },
  {
   "cell_type": "code",
   "execution_count": null,
   "id": "3165e107",
   "metadata": {},
   "outputs": [],
   "source": []
  },
  {
   "cell_type": "code",
   "execution_count": null,
   "id": "d318fbf4",
   "metadata": {},
   "outputs": [],
   "source": []
  },
  {
   "cell_type": "code",
   "execution_count": null,
   "id": "4f3b72d2",
   "metadata": {},
   "outputs": [],
   "source": []
  },
  {
   "cell_type": "code",
   "execution_count": null,
   "id": "208f658a",
   "metadata": {},
   "outputs": [],
   "source": []
  },
  {
   "cell_type": "code",
   "execution_count": null,
   "id": "66904f7f",
   "metadata": {},
   "outputs": [],
   "source": [
    "df_ratings.info()"
   ]
  },
  {
   "cell_type": "code",
   "execution_count": null,
   "id": "852a0201",
   "metadata": {},
   "outputs": [],
   "source": []
  },
  {
   "cell_type": "code",
   "execution_count": null,
   "id": "646b5713",
   "metadata": {},
   "outputs": [],
   "source": [
    "df_ratings.describe()"
   ]
  },
  {
   "cell_type": "code",
   "execution_count": null,
   "id": "12388649",
   "metadata": {},
   "outputs": [],
   "source": [
    "df_ratings.describe(include=object)"
   ]
  },
  {
   "cell_type": "code",
   "execution_count": null,
   "id": "aa06e845",
   "metadata": {},
   "outputs": [],
   "source": [
    "df_ratings.corr()"
   ]
  },
  {
   "cell_type": "code",
   "execution_count": null,
   "id": "06eed501",
   "metadata": {},
   "outputs": [],
   "source": [
    "?? df_ratings.corr"
   ]
  },
  {
   "cell_type": "code",
   "execution_count": null,
   "id": "ad001f96",
   "metadata": {},
   "outputs": [],
   "source": [
    "df_ratings = df_ratings.astype({'bookID': str, 'isbn13': str})"
   ]
  },
  {
   "cell_type": "code",
   "execution_count": null,
   "id": "3621fc9a",
   "metadata": {},
   "outputs": [],
   "source": [
    "df_ratings['publication_date'] = pd.to_datetime(df_ratings['publication_date'])"
   ]
  },
  {
   "cell_type": "code",
   "execution_count": null,
   "id": "fd96d90d",
   "metadata": {},
   "outputs": [],
   "source": [
    "df_ratings.info()"
   ]
  },
  {
   "cell_type": "code",
   "execution_count": null,
   "id": "99b58743",
   "metadata": {},
   "outputs": [],
   "source": [
    "df_ratings.corr()"
   ]
  },
  {
   "cell_type": "code",
   "execution_count": null,
   "id": "f8ed1735",
   "metadata": {},
   "outputs": [],
   "source": [
    "df_ratings['target_rating'] = df_ratings['average_rating'].apply(custom_round)"
   ]
  },
  {
   "cell_type": "code",
   "execution_count": null,
   "id": "58aa8438",
   "metadata": {},
   "outputs": [],
   "source": [
    "df_ratings.head()"
   ]
  },
  {
   "cell_type": "code",
   "execution_count": null,
   "id": "1394d0bc",
   "metadata": {},
   "outputs": [],
   "source": [
    "?? pd.get_dummies"
   ]
  },
  {
   "cell_type": "code",
   "execution_count": null,
   "id": "6d81a260",
   "metadata": {},
   "outputs": [],
   "source": [
    "df_new = df_ratings['authors'].str.get_dummies(sep=\"/\")"
   ]
  },
  {
   "cell_type": "code",
   "execution_count": null,
   "id": "65738939",
   "metadata": {},
   "outputs": [],
   "source": [
    "df_new = pd.get_dummies(df_new['language_code'])"
   ]
  },
  {
   "cell_type": "code",
   "execution_count": null,
   "id": "0a9729e4",
   "metadata": {},
   "outputs": [],
   "source": [
    "pd.get_dummies(df_ratings['publisher'])"
   ]
  },
  {
   "cell_type": "code",
   "execution_count": null,
   "id": "4cc3cca9",
   "metadata": {},
   "outputs": [],
   "source": [
    "x = 3.3\n",
    "y = 3.4\n",
    "z = 3.7"
   ]
  },
  {
   "cell_type": "code",
   "execution_count": null,
   "id": "be223643",
   "metadata": {},
   "outputs": [],
   "source": []
  },
  {
   "cell_type": "code",
   "execution_count": null,
   "id": "25209769",
   "metadata": {},
   "outputs": [],
   "source": [
    "custom_round(x)"
   ]
  },
  {
   "cell_type": "code",
   "execution_count": null,
   "id": "36ebe9b6",
   "metadata": {},
   "outputs": [],
   "source": [
    "custom_round(y)"
   ]
  },
  {
   "cell_type": "code",
   "execution_count": null,
   "id": "374d21c6",
   "metadata": {},
   "outputs": [],
   "source": [
    "custom_round(z)"
   ]
  },
  {
   "cell_type": "code",
   "execution_count": null,
   "id": "c3843f71",
   "metadata": {},
   "outputs": [],
   "source": []
  }
 ],
 "metadata": {
  "kernelspec": {
   "display_name": "Python 3 (ipykernel)",
   "language": "python",
   "name": "python3"
  },
  "language_info": {
   "codemirror_mode": {
    "name": "ipython",
    "version": 3
   },
   "file_extension": ".py",
   "mimetype": "text/x-python",
   "name": "python",
   "nbconvert_exporter": "python",
   "pygments_lexer": "ipython3",
   "version": "3.10.8"
  }
 },
 "nbformat": 4,
 "nbformat_minor": 5
}
